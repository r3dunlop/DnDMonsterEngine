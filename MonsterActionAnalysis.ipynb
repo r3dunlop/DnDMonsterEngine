{
 "cells": [
  {
   "cell_type": "code",
   "execution_count": 260,
   "metadata": {},
   "outputs": [],
   "source": [
    "import pandas as pd\n",
    "import inflection as inf"
   ]
  },
  {
   "cell_type": "markdown",
   "metadata": {},
   "source": [
    "# Quantifying Monster Actions\n",
    "In this notebook, actions taken by a monster will be quantified. This will mostly focus on attack actions. Monsters typically look something like the following:"
   ]
  },
  {
   "cell_type": "markdown",
   "metadata": {},
   "source": [
    "![title](img/Aboleth_actions.png)"
   ]
  },
  {
   "cell_type": "markdown",
   "metadata": {},
   "source": [
    "The descriptions of each action was scraped and stored in `actions.csv`."
   ]
  },
  {
   "cell_type": "code",
   "execution_count": 261,
   "metadata": {},
   "outputs": [
    {
     "data": {
      "text/html": [
       "<div>\n",
       "<style scoped>\n",
       "    .dataframe tbody tr th:only-of-type {\n",
       "        vertical-align: middle;\n",
       "    }\n",
       "\n",
       "    .dataframe tbody tr th {\n",
       "        vertical-align: top;\n",
       "    }\n",
       "\n",
       "    .dataframe thead th {\n",
       "        text-align: right;\n",
       "    }\n",
       "</style>\n",
       "<table border=\"1\" class=\"dataframe\">\n",
       "  <thead>\n",
       "    <tr style=\"text-align: right;\">\n",
       "      <th></th>\n",
       "      <th>Monster Name</th>\n",
       "      <th>Name</th>\n",
       "      <th>Description</th>\n",
       "      <th>Type</th>\n",
       "    </tr>\n",
       "  </thead>\n",
       "  <tbody>\n",
       "    <tr>\n",
       "      <th>0</th>\n",
       "      <td>Aboleth</td>\n",
       "      <td>Amphibious.</td>\n",
       "      <td>The aboleth can breathe air and water.</td>\n",
       "      <td>extra</td>\n",
       "    </tr>\n",
       "    <tr>\n",
       "      <th>1</th>\n",
       "      <td>Aboleth</td>\n",
       "      <td>Mucous Cloud.</td>\n",
       "      <td>While underwater, the aboleth is surrounded by...</td>\n",
       "      <td>extra</td>\n",
       "    </tr>\n",
       "    <tr>\n",
       "      <th>2</th>\n",
       "      <td>Aboleth</td>\n",
       "      <td>Probing Telepathy.</td>\n",
       "      <td>If a creature communicates telepathically with...</td>\n",
       "      <td>extra</td>\n",
       "    </tr>\n",
       "    <tr>\n",
       "      <th>3</th>\n",
       "      <td>Aboleth</td>\n",
       "      <td>Multiattack.</td>\n",
       "      <td>The aboleth makes three tentacle attacks.</td>\n",
       "      <td>action</td>\n",
       "    </tr>\n",
       "    <tr>\n",
       "      <th>4</th>\n",
       "      <td>Aboleth</td>\n",
       "      <td>Tentacle.</td>\n",
       "      <td>Melee Weapon Attack: +9 to hit, reach 10 ft., ...</td>\n",
       "      <td>action</td>\n",
       "    </tr>\n",
       "    <tr>\n",
       "      <th>5</th>\n",
       "      <td>Aboleth</td>\n",
       "      <td>Tail.</td>\n",
       "      <td>Melee Weapon Attack: +9 to hit, reach 10 ft. o...</td>\n",
       "      <td>action</td>\n",
       "    </tr>\n",
       "    <tr>\n",
       "      <th>6</th>\n",
       "      <td>Aboleth</td>\n",
       "      <td>Enslave .</td>\n",
       "      <td>The aboleth targets one creature it can see wi...</td>\n",
       "      <td>action</td>\n",
       "    </tr>\n",
       "    <tr>\n",
       "      <th>7</th>\n",
       "      <td>Aboleth</td>\n",
       "      <td>Detect.</td>\n",
       "      <td>The aboleth makes a Wisdom (Perception) check.</td>\n",
       "      <td>legend</td>\n",
       "    </tr>\n",
       "    <tr>\n",
       "      <th>8</th>\n",
       "      <td>Aboleth</td>\n",
       "      <td>Tail Swipe.</td>\n",
       "      <td>The aboleth makes one tail attack.</td>\n",
       "      <td>legend</td>\n",
       "    </tr>\n",
       "    <tr>\n",
       "      <th>9</th>\n",
       "      <td>Aboleth</td>\n",
       "      <td>Psychic Drain .</td>\n",
       "      <td>One creature charmed by the aboleth takes 10 (...</td>\n",
       "      <td>legend</td>\n",
       "    </tr>\n",
       "  </tbody>\n",
       "</table>\n",
       "</div>"
      ],
      "text/plain": [
       "  Monster Name                Name  \\\n",
       "0      Aboleth         Amphibious.   \n",
       "1      Aboleth       Mucous Cloud.   \n",
       "2      Aboleth  Probing Telepathy.   \n",
       "3      Aboleth        Multiattack.   \n",
       "4      Aboleth           Tentacle.   \n",
       "5      Aboleth               Tail.   \n",
       "6      Aboleth           Enslave .   \n",
       "7      Aboleth             Detect.   \n",
       "8      Aboleth         Tail Swipe.   \n",
       "9      Aboleth     Psychic Drain .   \n",
       "\n",
       "                                         Description    Type  \n",
       "0             The aboleth can breathe air and water.   extra  \n",
       "1  While underwater, the aboleth is surrounded by...   extra  \n",
       "2  If a creature communicates telepathically with...   extra  \n",
       "3          The aboleth makes three tentacle attacks.  action  \n",
       "4  Melee Weapon Attack: +9 to hit, reach 10 ft., ...  action  \n",
       "5  Melee Weapon Attack: +9 to hit, reach 10 ft. o...  action  \n",
       "6  The aboleth targets one creature it can see wi...  action  \n",
       "7     The aboleth makes a Wisdom (Perception) check.  legend  \n",
       "8                 The aboleth makes one tail attack.  legend  \n",
       "9  One creature charmed by the aboleth takes 10 (...  legend  "
      ]
     },
     "execution_count": 261,
     "metadata": {},
     "output_type": "execute_result"
    }
   ],
   "source": [
    "df = pd.read_csv('actions.csv')\n",
    "df.head(10)"
   ]
  },
  {
   "cell_type": "markdown",
   "metadata": {},
   "source": [
    "## Understanding how Actions contribute to attack\n",
    "The part of the monster that has a rigid application in the game mechanics is the \"actions\" section. This is where each monsters attacks are described. There are also \"extras\" that tend to contain special information about about what a monster can and can't do (jump high, breathe water, etc.). Some monsters have \"Legendary Actions\" that can be played at the end of each characters turn, but only once per monster turn. For now, I will focus on just 'actions'. "
   ]
  },
  {
   "cell_type": "code",
   "execution_count": 262,
   "metadata": {},
   "outputs": [
    {
     "data": {
      "text/html": [
       "<div>\n",
       "<style scoped>\n",
       "    .dataframe tbody tr th:only-of-type {\n",
       "        vertical-align: middle;\n",
       "    }\n",
       "\n",
       "    .dataframe tbody tr th {\n",
       "        vertical-align: top;\n",
       "    }\n",
       "\n",
       "    .dataframe thead th {\n",
       "        text-align: right;\n",
       "    }\n",
       "</style>\n",
       "<table border=\"1\" class=\"dataframe\">\n",
       "  <thead>\n",
       "    <tr style=\"text-align: right;\">\n",
       "      <th></th>\n",
       "      <th>Monster Name</th>\n",
       "      <th>Name</th>\n",
       "      <th>Description</th>\n",
       "      <th>Type</th>\n",
       "    </tr>\n",
       "  </thead>\n",
       "  <tbody>\n",
       "    <tr>\n",
       "      <th>3</th>\n",
       "      <td>Aboleth</td>\n",
       "      <td>Multiattack.</td>\n",
       "      <td>The aboleth makes three tentacle attacks.</td>\n",
       "      <td>action</td>\n",
       "    </tr>\n",
       "    <tr>\n",
       "      <th>4</th>\n",
       "      <td>Aboleth</td>\n",
       "      <td>Tentacle.</td>\n",
       "      <td>Melee Weapon Attack: +9 to hit, reach 10 ft., ...</td>\n",
       "      <td>action</td>\n",
       "    </tr>\n",
       "    <tr>\n",
       "      <th>5</th>\n",
       "      <td>Aboleth</td>\n",
       "      <td>Tail.</td>\n",
       "      <td>Melee Weapon Attack: +9 to hit, reach 10 ft. o...</td>\n",
       "      <td>action</td>\n",
       "    </tr>\n",
       "    <tr>\n",
       "      <th>6</th>\n",
       "      <td>Aboleth</td>\n",
       "      <td>Enslave .</td>\n",
       "      <td>The aboleth targets one creature it can see wi...</td>\n",
       "      <td>action</td>\n",
       "    </tr>\n",
       "    <tr>\n",
       "      <th>13</th>\n",
       "      <td>Deva</td>\n",
       "      <td>Multiattack.</td>\n",
       "      <td>The deva makes two melee attacks.</td>\n",
       "      <td>action</td>\n",
       "    </tr>\n",
       "    <tr>\n",
       "      <th>14</th>\n",
       "      <td>Deva</td>\n",
       "      <td>Mace.</td>\n",
       "      <td>Melee Weapon Attack: +8 to hit, reach 5 ft., o...</td>\n",
       "      <td>action</td>\n",
       "    </tr>\n",
       "    <tr>\n",
       "      <th>15</th>\n",
       "      <td>Deva</td>\n",
       "      <td>Healing Touch .</td>\n",
       "      <td>The deva touches another creature. The target ...</td>\n",
       "      <td>action</td>\n",
       "    </tr>\n",
       "    <tr>\n",
       "      <th>16</th>\n",
       "      <td>Deva</td>\n",
       "      <td>Change Shape.</td>\n",
       "      <td>The deva magically polymorphs into a humanoid ...</td>\n",
       "      <td>action</td>\n",
       "    </tr>\n",
       "    <tr>\n",
       "      <th>21</th>\n",
       "      <td>Planetar</td>\n",
       "      <td>Multiattack.</td>\n",
       "      <td>The planetar makes two melee attacks.</td>\n",
       "      <td>action</td>\n",
       "    </tr>\n",
       "    <tr>\n",
       "      <th>22</th>\n",
       "      <td>Planetar</td>\n",
       "      <td>Greatsword.</td>\n",
       "      <td>Melee Weapon Attack: +12 to hit, reach 5 ft., ...</td>\n",
       "      <td>action</td>\n",
       "    </tr>\n",
       "  </tbody>\n",
       "</table>\n",
       "</div>"
      ],
      "text/plain": [
       "   Monster Name             Name  \\\n",
       "3       Aboleth     Multiattack.   \n",
       "4       Aboleth        Tentacle.   \n",
       "5       Aboleth            Tail.   \n",
       "6       Aboleth        Enslave .   \n",
       "13         Deva     Multiattack.   \n",
       "14         Deva            Mace.   \n",
       "15         Deva  Healing Touch .   \n",
       "16         Deva    Change Shape.   \n",
       "21     Planetar     Multiattack.   \n",
       "22     Planetar      Greatsword.   \n",
       "\n",
       "                                          Description    Type  \n",
       "3           The aboleth makes three tentacle attacks.  action  \n",
       "4   Melee Weapon Attack: +9 to hit, reach 10 ft., ...  action  \n",
       "5   Melee Weapon Attack: +9 to hit, reach 10 ft. o...  action  \n",
       "6   The aboleth targets one creature it can see wi...  action  \n",
       "13                  The deva makes two melee attacks.  action  \n",
       "14  Melee Weapon Attack: +8 to hit, reach 5 ft., o...  action  \n",
       "15  The deva touches another creature. The target ...  action  \n",
       "16  The deva magically polymorphs into a humanoid ...  action  \n",
       "21              The planetar makes two melee attacks.  action  \n",
       "22  Melee Weapon Attack: +12 to hit, reach 5 ft., ...  action  "
      ]
     },
     "execution_count": 262,
     "metadata": {},
     "output_type": "execute_result"
    }
   ],
   "source": [
    "df_actions = df[df.Type == 'action']\n",
    "df_actions.head(10)"
   ]
  },
  {
   "cell_type": "markdown",
   "metadata": {},
   "source": [
    "I don't like the '.' in the name of each attack, and I do not trust that the spacing is consistant. Let's strip it. Let's also strip any potential hidden white space. Then, let's look at all of the unique action names that there are."
   ]
  },
  {
   "cell_type": "code",
   "execution_count": 263,
   "metadata": {},
   "outputs": [],
   "source": [
    "df_actions.Name = df_actions.Name.apply(lambda x : x.strip('. '))"
   ]
  },
  {
   "cell_type": "code",
   "execution_count": 264,
   "metadata": {},
   "outputs": [
    {
     "data": {
      "text/html": [
       "<div>\n",
       "<style scoped>\n",
       "    .dataframe tbody tr th:only-of-type {\n",
       "        vertical-align: middle;\n",
       "    }\n",
       "\n",
       "    .dataframe tbody tr th {\n",
       "        vertical-align: top;\n",
       "    }\n",
       "\n",
       "    .dataframe thead th {\n",
       "        text-align: right;\n",
       "    }\n",
       "</style>\n",
       "<table border=\"1\" class=\"dataframe\">\n",
       "  <thead>\n",
       "    <tr style=\"text-align: right;\">\n",
       "      <th></th>\n",
       "      <th>Monster Name</th>\n",
       "      <th>Name</th>\n",
       "      <th>Description</th>\n",
       "      <th>Type</th>\n",
       "    </tr>\n",
       "  </thead>\n",
       "  <tbody>\n",
       "    <tr>\n",
       "      <th>3</th>\n",
       "      <td>Aboleth</td>\n",
       "      <td>Multiattack</td>\n",
       "      <td>The aboleth makes three tentacle attacks.</td>\n",
       "      <td>action</td>\n",
       "    </tr>\n",
       "    <tr>\n",
       "      <th>4</th>\n",
       "      <td>Aboleth</td>\n",
       "      <td>Tentacle</td>\n",
       "      <td>Melee Weapon Attack: +9 to hit, reach 10 ft., ...</td>\n",
       "      <td>action</td>\n",
       "    </tr>\n",
       "    <tr>\n",
       "      <th>5</th>\n",
       "      <td>Aboleth</td>\n",
       "      <td>Tail</td>\n",
       "      <td>Melee Weapon Attack: +9 to hit, reach 10 ft. o...</td>\n",
       "      <td>action</td>\n",
       "    </tr>\n",
       "    <tr>\n",
       "      <th>6</th>\n",
       "      <td>Aboleth</td>\n",
       "      <td>Enslave</td>\n",
       "      <td>The aboleth targets one creature it can see wi...</td>\n",
       "      <td>action</td>\n",
       "    </tr>\n",
       "    <tr>\n",
       "      <th>13</th>\n",
       "      <td>Deva</td>\n",
       "      <td>Multiattack</td>\n",
       "      <td>The deva makes two melee attacks.</td>\n",
       "      <td>action</td>\n",
       "    </tr>\n",
       "  </tbody>\n",
       "</table>\n",
       "</div>"
      ],
      "text/plain": [
       "   Monster Name         Name  \\\n",
       "3       Aboleth  Multiattack   \n",
       "4       Aboleth     Tentacle   \n",
       "5       Aboleth         Tail   \n",
       "6       Aboleth      Enslave   \n",
       "13         Deva  Multiattack   \n",
       "\n",
       "                                          Description    Type  \n",
       "3           The aboleth makes three tentacle attacks.  action  \n",
       "4   Melee Weapon Attack: +9 to hit, reach 10 ft., ...  action  \n",
       "5   Melee Weapon Attack: +9 to hit, reach 10 ft. o...  action  \n",
       "6   The aboleth targets one creature it can see wi...  action  \n",
       "13                  The deva makes two melee attacks.  action  "
      ]
     },
     "execution_count": 264,
     "metadata": {},
     "output_type": "execute_result"
    }
   ],
   "source": [
    "df_actions.head()"
   ]
  },
  {
   "cell_type": "markdown",
   "metadata": {},
   "source": [
    "I will need to be searching for substrings within the attack description at some point. Let's make everything lower case to make this easier."
   ]
  },
  {
   "cell_type": "code",
   "execution_count": 265,
   "metadata": {},
   "outputs": [],
   "source": [
    "df_actions[['Name','Description']] = df_actions[['Name','Description']].apply(lambda x : x.str.lower())"
   ]
  },
  {
   "cell_type": "code",
   "execution_count": 266,
   "metadata": {},
   "outputs": [
    {
     "data": {
      "text/plain": [
       "Name\n",
       "acid breath           7\n",
       "acid spray            1\n",
       "animate chains        1\n",
       "animate trees         1\n",
       "antennae              1\n",
       "battleaxe             1\n",
       "beak                 12\n",
       "beaks                 1\n",
       "beard                 1\n",
       "bite                138\n",
       "bites                 6\n",
       "blinding breath       1\n",
       "blinding spittle      1\n",
       "blood drain           1\n",
       "breath weapons       20\n",
       "chain                 1\n",
       "change shape         11\n",
       "charm                 2\n",
       "claw                 54\n",
       "claws                29\n",
       "Name: Type, dtype: int64"
      ]
     },
     "execution_count": 266,
     "metadata": {},
     "output_type": "execute_result"
    }
   ],
   "source": [
    "df_actions.groupby(\"Name\").Type.count().head(20)"
   ]
  },
  {
   "cell_type": "markdown",
   "metadata": {},
   "source": [
    "It looks like there are some plural versions of actions. This is worth investigating. Let's take a look at the difference between 'Claw' and 'Claws'."
   ]
  },
  {
   "cell_type": "code",
   "execution_count": 267,
   "metadata": {},
   "outputs": [
    {
     "name": "stdout",
     "output_type": "stream",
     "text": [
      "melee weapon attack: +10 to hit, reach 10 ft., one target. hit: 15 (3d6 + 5) slashing damage.\n"
     ]
    },
    {
     "data": {
      "text/html": [
       "<div>\n",
       "<style scoped>\n",
       "    .dataframe tbody tr th:only-of-type {\n",
       "        vertical-align: middle;\n",
       "    }\n",
       "\n",
       "    .dataframe tbody tr th {\n",
       "        vertical-align: top;\n",
       "    }\n",
       "\n",
       "    .dataframe thead th {\n",
       "        text-align: right;\n",
       "    }\n",
       "</style>\n",
       "<table border=\"1\" class=\"dataframe\">\n",
       "  <thead>\n",
       "    <tr style=\"text-align: right;\">\n",
       "      <th></th>\n",
       "      <th>Monster Name</th>\n",
       "      <th>Name</th>\n",
       "      <th>Description</th>\n",
       "      <th>Type</th>\n",
       "    </tr>\n",
       "  </thead>\n",
       "  <tbody>\n",
       "    <tr>\n",
       "      <th>122</th>\n",
       "      <td>Hezrou</td>\n",
       "      <td>claw</td>\n",
       "      <td>melee weapon attack: +7 to hit, reach 5 ft., o...</td>\n",
       "      <td>action</td>\n",
       "    </tr>\n",
       "    <tr>\n",
       "      <th>133</th>\n",
       "      <td>Nalfeshnee</td>\n",
       "      <td>claw</td>\n",
       "      <td>melee weapon attack: +10 to hit, reach 10 ft.,...</td>\n",
       "      <td>action</td>\n",
       "    </tr>\n",
       "    <tr>\n",
       "      <th>150</th>\n",
       "      <td>Barbed Devil</td>\n",
       "      <td>claw</td>\n",
       "      <td>melee weapon attack: +6 to hit, reach 5 ft., o...</td>\n",
       "      <td>action</td>\n",
       "    </tr>\n",
       "    <tr>\n",
       "      <th>162</th>\n",
       "      <td>Bone Devil</td>\n",
       "      <td>claw</td>\n",
       "      <td>melee weapon attack: +8 to hit, reach 10 ft., ...</td>\n",
       "      <td>action</td>\n",
       "    </tr>\n",
       "    <tr>\n",
       "      <th>200</th>\n",
       "      <td>Pit Fiend</td>\n",
       "      <td>claw</td>\n",
       "      <td>melee weapon attack: +14 to hit, reach 10 ft.,...</td>\n",
       "      <td>action</td>\n",
       "    </tr>\n",
       "  </tbody>\n",
       "</table>\n",
       "</div>"
      ],
      "text/plain": [
       "     Monster Name  Name                                        Description  \\\n",
       "122        Hezrou  claw  melee weapon attack: +7 to hit, reach 5 ft., o...   \n",
       "133    Nalfeshnee  claw  melee weapon attack: +10 to hit, reach 10 ft.,...   \n",
       "150  Barbed Devil  claw  melee weapon attack: +6 to hit, reach 5 ft., o...   \n",
       "162    Bone Devil  claw  melee weapon attack: +8 to hit, reach 10 ft., ...   \n",
       "200     Pit Fiend  claw  melee weapon attack: +14 to hit, reach 10 ft.,...   \n",
       "\n",
       "       Type  \n",
       "122  action  \n",
       "133  action  \n",
       "150  action  \n",
       "162  action  \n",
       "200  action  "
      ]
     },
     "execution_count": 267,
     "metadata": {},
     "output_type": "execute_result"
    }
   ],
   "source": [
    "df_claw = df_actions[df_actions.Name == 'claw']\n",
    "print(df_claw.iloc[1].Description)\n",
    "df_claw.head()"
   ]
  },
  {
   "cell_type": "code",
   "execution_count": 268,
   "metadata": {},
   "outputs": [
    {
     "name": "stdout",
     "output_type": "stream",
     "text": [
      "melee weapon attack: +2 to hit, reach 5 ft., one target. hit: 5 (2d4) slashing damage.\n"
     ]
    },
    {
     "data": {
      "text/html": [
       "<div>\n",
       "<style scoped>\n",
       "    .dataframe tbody tr th:only-of-type {\n",
       "        vertical-align: middle;\n",
       "    }\n",
       "\n",
       "    .dataframe tbody tr th {\n",
       "        vertical-align: top;\n",
       "    }\n",
       "\n",
       "    .dataframe thead th {\n",
       "        text-align: right;\n",
       "    }\n",
       "</style>\n",
       "<table border=\"1\" class=\"dataframe\">\n",
       "  <thead>\n",
       "    <tr style=\"text-align: right;\">\n",
       "      <th></th>\n",
       "      <th>Monster Name</th>\n",
       "      <th>Name</th>\n",
       "      <th>Description</th>\n",
       "      <th>Type</th>\n",
       "    </tr>\n",
       "  </thead>\n",
       "  <tbody>\n",
       "    <tr>\n",
       "      <th>75</th>\n",
       "      <td>Chimera</td>\n",
       "      <td>claws</td>\n",
       "      <td>melee weapon attack: +7 to hit, reach 5 ft., o...</td>\n",
       "      <td>action</td>\n",
       "    </tr>\n",
       "    <tr>\n",
       "      <th>111</th>\n",
       "      <td>Dretch</td>\n",
       "      <td>claws</td>\n",
       "      <td>melee weapon attack: +2 to hit, reach 5 ft., o...</td>\n",
       "      <td>action</td>\n",
       "    </tr>\n",
       "    <tr>\n",
       "      <th>138</th>\n",
       "      <td>Quasit</td>\n",
       "      <td>claws</td>\n",
       "      <td>melee weapon attack: +4 to hit, reach 5 ft., o...</td>\n",
       "      <td>action</td>\n",
       "    </tr>\n",
       "    <tr>\n",
       "      <th>184</th>\n",
       "      <td>Ice Devil</td>\n",
       "      <td>claws</td>\n",
       "      <td>melee weapon attack: +10 to hit, reach 5 ft., ...</td>\n",
       "      <td>action</td>\n",
       "    </tr>\n",
       "    <tr>\n",
       "      <th>595</th>\n",
       "      <td>Ettercap</td>\n",
       "      <td>claws</td>\n",
       "      <td>melee weapon attack: +4 to hit, reach 5 ft., o...</td>\n",
       "      <td>action</td>\n",
       "    </tr>\n",
       "  </tbody>\n",
       "</table>\n",
       "</div>"
      ],
      "text/plain": [
       "    Monster Name   Name                                        Description  \\\n",
       "75       Chimera  claws  melee weapon attack: +7 to hit, reach 5 ft., o...   \n",
       "111       Dretch  claws  melee weapon attack: +2 to hit, reach 5 ft., o...   \n",
       "138       Quasit  claws  melee weapon attack: +4 to hit, reach 5 ft., o...   \n",
       "184    Ice Devil  claws  melee weapon attack: +10 to hit, reach 5 ft., ...   \n",
       "595     Ettercap  claws  melee weapon attack: +4 to hit, reach 5 ft., o...   \n",
       "\n",
       "       Type  \n",
       "75   action  \n",
       "111  action  \n",
       "138  action  \n",
       "184  action  \n",
       "595  action  "
      ]
     },
     "execution_count": 268,
     "metadata": {},
     "output_type": "execute_result"
    }
   ],
   "source": [
    "df_claws = df_actions[df_actions.Name == 'claws']\n",
    "print(df_claws.iloc[1].Description)\n",
    "df_claws.head()"
   ]
  },
  {
   "cell_type": "markdown",
   "metadata": {},
   "source": [
    "At first glance, it appears as if the difference between plural attacks and singular attacks is syntactic and has no bearing on the way the attack is staged. We can double check this by searching each attack for the occurance of a digit. The singular digits should suffice in confirming this hypothesis."
   ]
  },
  {
   "cell_type": "code",
   "execution_count": 269,
   "metadata": {},
   "outputs": [
    {
     "data": {
      "text/plain": [
       "Name\n",
       "animate chains       1\n",
       "animate trees        1\n",
       "claw                 2\n",
       "create specter       1\n",
       "ethereal stride      1\n",
       "fey charm            1\n",
       "lightning storm      1\n",
       "longsword            7\n",
       "multiattack        136\n",
       "phantasms            1\n",
       "pincer               2\n",
       "quarterstaff         1\n",
       "spear                8\n",
       "teleport             1\n",
       "tentacle             1\n",
       "warhammer            1\n",
       "whelm                1\n",
       "Name: Type, dtype: int64"
      ]
     },
     "execution_count": 269,
     "metadata": {},
     "output_type": "execute_result"
    }
   ],
   "source": [
    "number_word_list = ['two','three','four','five','six','seven','eight','nine'] \n",
    "#Made a list in case I want to use it later\n",
    "number_word_string = ''\n",
    "for number in number_word_list:\n",
    "    number_word_string += number + \"|\"\n",
    "number_word_string = number_word_string.strip('|')\n",
    "\n",
    "df_multiple = df_actions[df_actions.Description.str.contains(number_word_string)]\n",
    "df_multiple.groupby(\"Name\").Type.count().head(20)"
   ]
  },
  {
   "cell_type": "markdown",
   "metadata": {},
   "source": [
    "### Understanding Multiattack\n",
    "`Multiattack` has by far the most entries. Let's examin a set of multiattacks to understand what it does."
   ]
  },
  {
   "cell_type": "code",
   "execution_count": 270,
   "metadata": {},
   "outputs": [
    {
     "data": {
      "text/plain": [
       "3             the aboleth makes three tentacle attacks.\n",
       "13                    the deva makes two melee attacks.\n",
       "21                the planetar makes two melee attacks.\n",
       "28              the solar makes two greatsword attacks.\n",
       "38                   the armor makes two melee attacks.\n",
       "55    the behir makes two attacks: one with its bite...\n",
       "68    the centaur makes two attacks: one with its pi...\n",
       "72    the chimera makes three attacks: one with its ...\n",
       "79    the chuul makes two pincer attacks. if the chu...\n",
       "85    the cloaker makes two attacks: one with its bi...\n",
       "Name: Description, dtype: object"
      ]
     },
     "execution_count": 270,
     "metadata": {},
     "output_type": "execute_result"
    }
   ],
   "source": [
    "df_multiple[df_multiple.Name == 'multiattack'].Description.head(10)"
   ]
  },
  {
   "cell_type": "markdown",
   "metadata": {},
   "source": [
    "It looks as though `multiattack` just defines which attacks a monster can do if they can make more than one attack. To confirm this, let's do a search on `makes n attacks` and make sure the list is the same size."
   ]
  },
  {
   "cell_type": "code",
   "execution_count": 271,
   "metadata": {},
   "outputs": [
    {
     "name": "stdout",
     "output_type": "stream",
     "text": [
      "136\n",
      "136\n"
     ]
    }
   ],
   "source": [
    "print(len(df_multiple[(df_multiple.Name == 'multiattack') & df_multiple.Description.str.contains('makes ' + number_word_string + \" attacks\" ,regex=True)].Description))\n",
    "print(len(df_multiple[df_multiple.Name == 'multiattack'].Description))"
   ]
  },
  {
   "cell_type": "markdown",
   "metadata": {},
   "source": [
    "They are the same! Great! We understand what multiattack does. We should remember this for later."
   ]
  },
  {
   "cell_type": "markdown",
   "metadata": {},
   "source": [
    "### The other actions with numbers in them"
   ]
  },
  {
   "cell_type": "markdown",
   "metadata": {},
   "source": [
    "Let's look at the remaining actions with english numbers > 1, but specifically if it references to an attack and includes damage or hitting."
   ]
  },
  {
   "cell_type": "code",
   "execution_count": 272,
   "metadata": {},
   "outputs": [
    {
     "name": "stdout",
     "output_type": "stream",
     "text": [
      "24\n",
      "melee or ranged weapon attack: +4 to hit, reach 5 ft. or range 20/60 ft., one creature. hit: 5 (1d6 + 2) piercing damage, or 6 (1d8 + 2) piercing damage if used with two hands to make a melee attack.\n"
     ]
    }
   ],
   "source": [
    "df_multiple_no_ma = df_actions[df_actions.Description.str.contains(number_word_string) & ~(df_actions.Name == 'multiattack') & (df_actions.Description.str.contains('damage|hit') & (df_actions.Description.str.contains('attack'))) ]\n",
    "print(len(df_multiple_no_ma))\n",
    "print(df_multiple_no_ma.iloc[11].Description)"
   ]
  },
  {
   "cell_type": "markdown",
   "metadata": {},
   "source": [
    "Many of the remaining actions look like they all attack one creature or one target, but have logic depending on the number of hands being used."
   ]
  },
  {
   "cell_type": "code",
   "execution_count": 273,
   "metadata": {},
   "outputs": [
    {
     "name": "stdout",
     "output_type": "stream",
     "text": [
      "melee weapon attack: +6 to hit, reach 10 ft., one target. hit: 11 (2d6 + 4) bludgeoning damage. the target is grappled (escape dc 14) if it is a large or smaller creature and the chuul doesn't have two other creatures grappled.\n",
      "\n",
      "the cloaker magically creates three illusory duplicates of itself if it isn't in bright light. the duplicates move with it and mimic its actions, shifting position so as to make it impossible to track which cloaker is the real one. if the cloaker is ever in an area of bright light, the duplicates disappear.\n",
      "whenever any creature targets the cloaker with an attack or a harmful spell while a duplicate remains, that creature rolls randomly to determine whether it targets the cloaker or one of the duplicates. a creature is unaffected by this magical effect if it can't see or if it relies on senses other than sight.\n",
      "a duplicate has the cloaker's ac and uses its saving throws. if an attack hits a duplicate, or if a duplicate fails a saving throw against an effect that deals damage, the duplicate disappears.\n",
      "\n",
      "\n",
      "melee weapon attack: +14 to hit, reach 10 ft., one target. hit: 21 (3d8 + 8) slashing damage plus 13 (3d8) lightning damage. if the balor scores a critical hit, it rolls damage dice three times, instead of twice.\n",
      "\n",
      "melee weapon attack: +9 to hit, reach 10 ft., one target. hit: 16 (2d10 + 5) bludgeoning damage. if the target is a medium or smaller creature, it is grappled (escape dc 15). the glabrezu has two pincers, each of which can grapple only one target.\n",
      "\n",
      "up to four chains the devil can see within 60 feet of it magically sprout razor-edged barbs and animate under the devil's control, provided that the chains aren't\n",
      "being worn or carried.\n",
      "each animated chain is an object with ac 20, 20 hit points, resistance to piercing damage, and immunity to psychic and thunder damage. when the devil uses multiattack on its turn, it can use each animated chain to make one additional chain attack. an animated chain can grapple one creature of its own but can't make attacks while grappling. an animated chain reverts to its inanimate state if reduced to 0 hit points or if the devil is incapacitated or dies.\n",
      "\n",
      "\n",
      "melee weapon attack: +6 to hit, reach 10 ft., one target. hit: 7 (1d8 + 3) bludgeoning damage plus 4 (1d8) piercing damage. if the target is medium or smaller, it is grappled (escape dc 13) and restrained until the grapple ends. the otyugh has two tentacles, each of which can grapple one target.\n",
      "\n",
      "melee weapon attack: +3 to hit, reach 5 ft., one target. hit: 4 (1d6 + 1) bludgeoning damage, and the target is grappled (escape dc 11). the crab has two claws, each of which can grapple only one target.\n",
      "\n",
      "\n",
      "melee weapon attack: +4 to hit, reach 5 ft., one target. hit: 6 (1d8 + 2) bludgeoning damage, and the target is grappled (escape dc 12). the scorpion has two claws, each of which can grapple only one target.\n",
      "\n"
     ]
    }
   ],
   "source": [
    "df_multiple_no_ma_no_hands = df_multiple_no_ma[~df_multiple_no_ma.Description.str.contains('two hands')]\n",
    "for i in range(len(df_multiple_no_ma_no_hands)):\n",
    "    print(df_multiple_no_ma_no_hands.iloc[i].Description + '\\n')"
   ]
  },
  {
   "cell_type": "markdown",
   "metadata": {},
   "source": [
    "It looks like it is safe to ignore these as being duplicate attacks. Now lets see if we can come up with a way to model the attacks well. The plurals are most likely syntactic, and we can group them with the singular versions of themselves."
   ]
  },
  {
   "cell_type": "code",
   "execution_count": 274,
   "metadata": {},
   "outputs": [
    {
     "data": {
      "text/plain": [
       "Name\n",
       "acid breath           7\n",
       "acid spray            1\n",
       "animate chain         1\n",
       "animate tree          1\n",
       "antennae              1\n",
       "battleaxe             1\n",
       "beak                 13\n",
       "beard                 1\n",
       "bite                144\n",
       "blinding breath       1\n",
       "blinding spittle      1\n",
       "blood drain           1\n",
       "breath weapon        20\n",
       "chain                 1\n",
       "change shape         11\n",
       "charm                 2\n",
       "claw                 83\n",
       "club                  4\n",
       "cold breath           9\n",
       "constrict             4\n",
       "Name: Type, dtype: int64"
      ]
     },
     "execution_count": 274,
     "metadata": {},
     "output_type": "execute_result"
    }
   ],
   "source": [
    "df_actions.Name = df_actions.Name.apply(lambda x : inf.singularize(x))\n",
    "df_actions.groupby(\"Name\").Type.count().head(20)"
   ]
  },
  {
   "cell_type": "code",
   "execution_count": 276,
   "metadata": {},
   "outputs": [
    {
     "name": "stderr",
     "output_type": "stream",
     "text": [
      "/Users/rdunlop/anaconda3/lib/python3.7/site-packages/ipykernel_launcher.py:1: SettingWithCopyWarning: \n",
      "A value is trying to be set on a copy of a slice from a DataFrame.\n",
      "Try using .loc[row_indexer,col_indexer] = value instead\n",
      "\n",
      "See the caveats in the documentation: http://pandas.pydata.org/pandas-docs/stable/indexing.html#indexing-view-versus-copy\n",
      "  \"\"\"Entry point for launching an IPython kernel.\n",
      "/Users/rdunlop/anaconda3/lib/python3.7/site-packages/ipykernel_launcher.py:2: SettingWithCopyWarning: \n",
      "A value is trying to be set on a copy of a slice from a DataFrame.\n",
      "Try using .loc[row_indexer,col_indexer] = value instead\n",
      "\n",
      "See the caveats in the documentation: http://pandas.pydata.org/pandas-docs/stable/indexing.html#indexing-view-versus-copy\n",
      "  \n",
      "/Users/rdunlop/anaconda3/lib/python3.7/site-packages/ipykernel_launcher.py:3: SettingWithCopyWarning: \n",
      "A value is trying to be set on a copy of a slice from a DataFrame.\n",
      "Try using .loc[row_indexer,col_indexer] = value instead\n",
      "\n",
      "See the caveats in the documentation: http://pandas.pydata.org/pandas-docs/stable/indexing.html#indexing-view-versus-copy\n",
      "  This is separate from the ipykernel package so we can avoid doing imports until\n"
     ]
    },
    {
     "data": {
      "text/html": [
       "<div>\n",
       "<style scoped>\n",
       "    .dataframe tbody tr th:only-of-type {\n",
       "        vertical-align: middle;\n",
       "    }\n",
       "\n",
       "    .dataframe tbody tr th {\n",
       "        vertical-align: top;\n",
       "    }\n",
       "\n",
       "    .dataframe thead th {\n",
       "        text-align: right;\n",
       "    }\n",
       "</style>\n",
       "<table border=\"1\" class=\"dataframe\">\n",
       "  <thead>\n",
       "    <tr style=\"text-align: right;\">\n",
       "      <th></th>\n",
       "      <th>Monster Name</th>\n",
       "      <th>Name</th>\n",
       "      <th>Description</th>\n",
       "      <th>Type</th>\n",
       "      <th>melee</th>\n",
       "      <th>ranged</th>\n",
       "      <th>contains_attack</th>\n",
       "    </tr>\n",
       "  </thead>\n",
       "  <tbody>\n",
       "    <tr>\n",
       "      <th>3</th>\n",
       "      <td>Aboleth</td>\n",
       "      <td>multiattack</td>\n",
       "      <td>the aboleth makes three tentacle attacks.</td>\n",
       "      <td>action</td>\n",
       "      <td>False</td>\n",
       "      <td>False</td>\n",
       "      <td>True</td>\n",
       "    </tr>\n",
       "    <tr>\n",
       "      <th>4</th>\n",
       "      <td>Aboleth</td>\n",
       "      <td>tentacle</td>\n",
       "      <td>melee weapon attack: +9 to hit, reach 10 ft., ...</td>\n",
       "      <td>action</td>\n",
       "      <td>True</td>\n",
       "      <td>False</td>\n",
       "      <td>True</td>\n",
       "    </tr>\n",
       "    <tr>\n",
       "      <th>5</th>\n",
       "      <td>Aboleth</td>\n",
       "      <td>tail</td>\n",
       "      <td>melee weapon attack: +9 to hit, reach 10 ft. o...</td>\n",
       "      <td>action</td>\n",
       "      <td>True</td>\n",
       "      <td>False</td>\n",
       "      <td>True</td>\n",
       "    </tr>\n",
       "    <tr>\n",
       "      <th>6</th>\n",
       "      <td>Aboleth</td>\n",
       "      <td>enslave</td>\n",
       "      <td>the aboleth targets one creature it can see wi...</td>\n",
       "      <td>action</td>\n",
       "      <td>False</td>\n",
       "      <td>False</td>\n",
       "      <td>False</td>\n",
       "    </tr>\n",
       "    <tr>\n",
       "      <th>13</th>\n",
       "      <td>Deva</td>\n",
       "      <td>multiattack</td>\n",
       "      <td>the deva makes two melee attacks.</td>\n",
       "      <td>action</td>\n",
       "      <td>True</td>\n",
       "      <td>False</td>\n",
       "      <td>True</td>\n",
       "    </tr>\n",
       "  </tbody>\n",
       "</table>\n",
       "</div>"
      ],
      "text/plain": [
       "   Monster Name         Name  \\\n",
       "3       Aboleth  multiattack   \n",
       "4       Aboleth     tentacle   \n",
       "5       Aboleth         tail   \n",
       "6       Aboleth      enslave   \n",
       "13         Deva  multiattack   \n",
       "\n",
       "                                          Description    Type  melee  ranged  \\\n",
       "3           the aboleth makes three tentacle attacks.  action  False   False   \n",
       "4   melee weapon attack: +9 to hit, reach 10 ft., ...  action   True   False   \n",
       "5   melee weapon attack: +9 to hit, reach 10 ft. o...  action   True   False   \n",
       "6   the aboleth targets one creature it can see wi...  action  False   False   \n",
       "13                  the deva makes two melee attacks.  action   True   False   \n",
       "\n",
       "    contains_attack  \n",
       "3              True  \n",
       "4              True  \n",
       "5              True  \n",
       "6             False  \n",
       "13             True  "
      ]
     },
     "execution_count": 276,
     "metadata": {},
     "output_type": "execute_result"
    }
   ],
   "source": [
    "df_actions[\"contains_attack\"] = df_actions.Description.str.contains(\"attack\")\n",
    "df_actions[\"melee\"] = df_actions.Description.str.contains(\"melee\")\n",
    "df_actions[\"ranged\"] = df_actions.Description.str.contains(\"ranged\")\n",
    "df_actions.head()"
   ]
  },
  {
   "cell_type": "code",
   "execution_count": 292,
   "metadata": {},
   "outputs": [
    {
     "data": {
      "text/plain": [
       "31      the solar releases its greatsword to hover mag...\n",
       "59      the behir makes one bite attack against a medi...\n",
       "89      the cloaker magically creates three illusory d...\n",
       "96      the couatl magically polymorphs into a humanoi...\n",
       "140     the quasit magically turns invisible until it ...\n",
       "168     up to four chains the devil can see within 60 ...\n",
       "190     the imp magically turns invisible until it att...\n",
       "451     the dragon exhales gas in a 60-foot cone. each...\n",
       "460     the dragon exhales gas in a 30-foot cone. each...\n",
       "464     the dragon exhales gas in a 15-foot cone. each...\n",
       "474     the dragon exhales gas in a 90-foot cone. each...\n",
       "488     the dragon exhales gas in a 60-foot cone. each...\n",
       "499     the dragon exhales gas in a 30-foot cone. each...\n",
       "504     the dragon exhales gas in a 15-foot cone. each...\n",
       "563     for 1 minute, the duergar magically increases ...\n",
       "566     the duergar magically turns invisible until it...\n",
       "625     one humanoid that the ghost can see within 5 f...\n",
       "678     until the end of its next turn, the golem magi...\n",
       "703     the golem targets one or more creatures it can...\n",
       "724     the hag magically turns invisible until she at...\n",
       "745     the harpy sings a magical melody. every humano...\n",
       "963     the remorhaz makes one bite attack against a m...\n",
       "1033             the sphinx's weapon attacks are magical.\n",
       "1040    the sprite magically turns invisible until it ...\n",
       "1058    the tarrasque makes one bite attack against a ...\n",
       "1097    the vampire targets one humanoid it can see wi...\n",
       "1119    the will-o'-wisp and its light magically becom...\n",
       "1157    the dog magically teleports, along with any eq...\n",
       "1230    the frog makes one bite attack against a or sm...\n",
       "1264    the toad makes one bite attack against a mediu...\n",
       "Name: Description, dtype: object"
      ]
     },
     "execution_count": 292,
     "metadata": {},
     "output_type": "execute_result"
    }
   ],
   "source": [
    "df_attack_but_no_type = df_actions[(~(df_actions.melee) & ~(df_actions.ranged)) & df_actions.contains_attack & (df_actions.Name != 'multiattack')]\n",
    "df_attack_but_no_type.Name.count()\n",
    "df_attack_but_no_type.Description.head(30)"
   ]
  },
  {
   "cell_type": "markdown",
   "metadata": {},
   "source": [
    "There are 31 actions that do not contain either melee or ranged, but still have the word attack. These are all descriptions and not a simple direct attack. We will come back to these, but let's see if we can model the monsters based off of simple attacks. Let's see how many simple attacks each monster has.\n",
    "# Simple attacks"
   ]
  },
  {
   "cell_type": "code",
   "execution_count": 302,
   "metadata": {},
   "outputs": [
    {
     "name": "stderr",
     "output_type": "stream",
     "text": [
      "/Users/rdunlop/anaconda3/lib/python3.7/site-packages/ipykernel_launcher.py:1: SettingWithCopyWarning: \n",
      "A value is trying to be set on a copy of a slice from a DataFrame.\n",
      "Try using .loc[row_indexer,col_indexer] = value instead\n",
      "\n",
      "See the caveats in the documentation: http://pandas.pydata.org/pandas-docs/stable/indexing.html#indexing-view-versus-copy\n",
      "  \"\"\"Entry point for launching an IPython kernel.\n"
     ]
    },
    {
     "data": {
      "text/html": [
       "<div>\n",
       "<style scoped>\n",
       "    .dataframe tbody tr th:only-of-type {\n",
       "        vertical-align: middle;\n",
       "    }\n",
       "\n",
       "    .dataframe tbody tr th {\n",
       "        vertical-align: top;\n",
       "    }\n",
       "\n",
       "    .dataframe thead th {\n",
       "        text-align: right;\n",
       "    }\n",
       "</style>\n",
       "<table border=\"1\" class=\"dataframe\">\n",
       "  <thead>\n",
       "    <tr style=\"text-align: right;\">\n",
       "      <th></th>\n",
       "      <th>Monster Name</th>\n",
       "      <th>Name</th>\n",
       "      <th>Description</th>\n",
       "      <th>Type</th>\n",
       "      <th>melee</th>\n",
       "      <th>ranged</th>\n",
       "      <th>contains_attack</th>\n",
       "      <th>simple_attack</th>\n",
       "    </tr>\n",
       "  </thead>\n",
       "  <tbody>\n",
       "    <tr>\n",
       "      <th>3</th>\n",
       "      <td>Aboleth</td>\n",
       "      <td>multiattack</td>\n",
       "      <td>the aboleth makes three tentacle attacks.</td>\n",
       "      <td>action</td>\n",
       "      <td>False</td>\n",
       "      <td>False</td>\n",
       "      <td>True</td>\n",
       "      <td>False</td>\n",
       "    </tr>\n",
       "    <tr>\n",
       "      <th>4</th>\n",
       "      <td>Aboleth</td>\n",
       "      <td>tentacle</td>\n",
       "      <td>melee weapon attack: +9 to hit, reach 10 ft., ...</td>\n",
       "      <td>action</td>\n",
       "      <td>True</td>\n",
       "      <td>False</td>\n",
       "      <td>True</td>\n",
       "      <td>True</td>\n",
       "    </tr>\n",
       "    <tr>\n",
       "      <th>5</th>\n",
       "      <td>Aboleth</td>\n",
       "      <td>tail</td>\n",
       "      <td>melee weapon attack: +9 to hit, reach 10 ft. o...</td>\n",
       "      <td>action</td>\n",
       "      <td>True</td>\n",
       "      <td>False</td>\n",
       "      <td>True</td>\n",
       "      <td>True</td>\n",
       "    </tr>\n",
       "    <tr>\n",
       "      <th>6</th>\n",
       "      <td>Aboleth</td>\n",
       "      <td>enslave</td>\n",
       "      <td>the aboleth targets one creature it can see wi...</td>\n",
       "      <td>action</td>\n",
       "      <td>False</td>\n",
       "      <td>False</td>\n",
       "      <td>False</td>\n",
       "      <td>False</td>\n",
       "    </tr>\n",
       "    <tr>\n",
       "      <th>13</th>\n",
       "      <td>Deva</td>\n",
       "      <td>multiattack</td>\n",
       "      <td>the deva makes two melee attacks.</td>\n",
       "      <td>action</td>\n",
       "      <td>True</td>\n",
       "      <td>False</td>\n",
       "      <td>True</td>\n",
       "      <td>True</td>\n",
       "    </tr>\n",
       "  </tbody>\n",
       "</table>\n",
       "</div>"
      ],
      "text/plain": [
       "   Monster Name         Name  \\\n",
       "3       Aboleth  multiattack   \n",
       "4       Aboleth     tentacle   \n",
       "5       Aboleth         tail   \n",
       "6       Aboleth      enslave   \n",
       "13         Deva  multiattack   \n",
       "\n",
       "                                          Description    Type  melee  ranged  \\\n",
       "3           the aboleth makes three tentacle attacks.  action  False   False   \n",
       "4   melee weapon attack: +9 to hit, reach 10 ft., ...  action   True   False   \n",
       "5   melee weapon attack: +9 to hit, reach 10 ft. o...  action   True   False   \n",
       "6   the aboleth targets one creature it can see wi...  action  False   False   \n",
       "13                  the deva makes two melee attacks.  action   True   False   \n",
       "\n",
       "    contains_attack  simple_attack  \n",
       "3              True          False  \n",
       "4              True           True  \n",
       "5              True           True  \n",
       "6             False          False  \n",
       "13             True           True  "
      ]
     },
     "execution_count": 302,
     "metadata": {},
     "output_type": "execute_result"
    }
   ],
   "source": [
    "df_actions['simple_attack'] = df_actions.melee | df_actions.ranged\n",
    "df_actions.head()"
   ]
  },
  {
   "cell_type": "markdown",
   "metadata": {},
   "source": [
    "The total number of monsters will be useful"
   ]
  },
  {
   "cell_type": "code",
   "execution_count": 314,
   "metadata": {},
   "outputs": [
    {
     "data": {
      "text/plain": [
       "314"
      ]
     },
     "execution_count": 314,
     "metadata": {},
     "output_type": "execute_result"
    }
   ],
   "source": [
    "len(df_actions[\"Monster Name\"].unique())"
   ]
  },
  {
   "cell_type": "markdown",
   "metadata": {},
   "source": [
    "There are 314 monsters. How many contain at least one simple attack?"
   ]
  },
  {
   "cell_type": "code",
   "execution_count": 312,
   "metadata": {},
   "outputs": [
    {
     "data": {
      "text/plain": [
       "313"
      ]
     },
     "execution_count": 312,
     "metadata": {},
     "output_type": "execute_result"
    }
   ],
   "source": [
    "df_actions_simple = df_actions[df_actions.simple_attack]\n",
    "len(df_actions_simple[\"Monster Name\"].unique())"
   ]
  },
  {
   "cell_type": "markdown",
   "metadata": {},
   "source": [
    "There are 313! We are only missing one monster. Who is it?"
   ]
  },
  {
   "cell_type": "code",
   "execution_count": 324,
   "metadata": {},
   "outputs": [
    {
     "data": {
      "text/plain": [
       "{'Black Bear'}"
      ]
     },
     "execution_count": 324,
     "metadata": {},
     "output_type": "execute_result"
    }
   ],
   "source": [
    "set(df_actions[\"Monster Name\"].unique()).difference(set(df_actions_simple[\"Monster Name\"].unique()))"
   ]
  },
  {
   "cell_type": "markdown",
   "metadata": {},
   "source": [
    "So what's up with the black bear? Let's take a look."
   ]
  },
  {
   "cell_type": "code",
   "execution_count": 340,
   "metadata": {},
   "outputs": [
    {
     "name": "stdout",
     "output_type": "stream",
     "text": [
      "the bear makes two attacks: one with its bite and one with its claws.\n"
     ]
    }
   ],
   "source": [
    "print(df_actions.loc[df_actions['Monster Name'] == 'Black Bear'].Description.item())"
   ]
  },
  {
   "cell_type": "markdown",
   "metadata": {},
   "source": [
    "This makes it seem like there should be more to the bears attack...and there is! A quick check in the monster manual shows that the black bear contains a bite and a claw attack! Let's add these in."
   ]
  },
  {
   "cell_type": "code",
   "execution_count": 348,
   "metadata": {},
   "outputs": [
    {
     "data": {
      "text/plain": [
       "314"
      ]
     },
     "execution_count": 348,
     "metadata": {},
     "output_type": "execute_result"
    }
   ],
   "source": [
    "df_black_bear = pd.DataFrame({\"Monster Name\":[\"Black Bear\", \"Black Bear\"], \n",
    "                    \"Name\":[\"Bite\", \"Claws\"],\n",
    "                    \"Description\":[\"melee weapon attack: +3 to hit, reach 5 ft., one target. Hit: (1d6 + 2) piercing damage.\",\"melee weapon attack: +3 to hit, reach 5 ft., one target. Hit: (2d4 + 2) slashing damage.\"],\n",
    "                    \"Type\": [\"action\",\"action\"],\n",
    "                    \"melee\": [True,True],\n",
    "                             \"ranged\": [False,False],\n",
    "                             \"contains_attack\":[True,True],\n",
    "                             \"simple_attack\":[True,True]})\n",
    "df_actions = df_actions.append(df_black_bear)\n",
    "df_actions_simple = df_actions[df_actions.simple_attack]\n",
    "len(df_actions_simple[\"Monster Name\"].unique())\n",
    "\n"
   ]
  },
  {
   "cell_type": "markdown",
   "metadata": {},
   "source": [
    "Fixed! All monsters have at least one simple attack. It will be hard to quantify the non-simple attacks, so the next thing we should do is remove all non-simple attacks."
   ]
  },
  {
   "cell_type": "code",
   "execution_count": null,
   "metadata": {},
   "outputs": [],
   "source": []
  }
 ],
 "metadata": {
  "kernelspec": {
   "display_name": "Python 3",
   "language": "python",
   "name": "python3"
  },
  "language_info": {
   "codemirror_mode": {
    "name": "ipython",
    "version": 3
   },
   "file_extension": ".py",
   "mimetype": "text/x-python",
   "name": "python",
   "nbconvert_exporter": "python",
   "pygments_lexer": "ipython3",
   "version": "3.7.3"
  }
 },
 "nbformat": 4,
 "nbformat_minor": 2
}
